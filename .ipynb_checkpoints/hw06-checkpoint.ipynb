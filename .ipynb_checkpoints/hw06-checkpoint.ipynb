{
 "cells": [
  {
   "cell_type": "markdown",
   "metadata": {},
   "source": [
    "# CS 237 Spring 2020  Homework Six \n",
    "\n",
    "### Due date: Due Friday March 6th @ midnight in GradeScope with 6-hour grace period\n",
    "\n",
    "### Late deadline:  If submitted up to 24 hours late, you will receive a 10% penalty (with same 6 hours grace period)\n",
    "\n",
    "### General Instructions\n",
    "\n",
    "Please complete this notebook by filling in solutions where indicated. Be sure to \"Run All\" from the Cell menu before submitting. \n",
    "\n",
    "There are two sections to the homework: problems 1 - 10 are analytical problems about last\n",
    "week's material, and the remaining 2 problems are coding problems which will be discussed in lab. \n"
   ]
  },
  {
   "cell_type": "code",
   "execution_count": 2,
   "metadata": {},
   "outputs": [],
   "source": [
    "# Here are some imports which will be used in code that we write for CS 237\n",
    " \n",
    "# Imports potentially used for this lab\n",
    "\n",
    "\n",
    "import matplotlib.pyplot as plt   # normal plotting\n",
    "import numpy as np\n",
    "\n",
    "from math import log, pi,log,floor       # import whatever you want from math\n",
    "from random import seed, random\n",
    "from collections import Counter\n",
    "\n",
    "%matplotlib inline\n",
    "\n",
    "from scipy.special import comb\n",
    "           \n",
    "def C(N,K):    \n",
    "    return comb(N,K,True)     # just a wrapper around the scipy function\n",
    "\n",
    "\n",
    "# This draws a useful bar chart for the distribution of the list of integers in outcomes\n",
    "\n",
    "def draw_distribution_from_outcomes(outcomes, title='Experimental Probability Distribution', my_xticks = [], f_size = (8,6)):\n",
    "    plt.figure(figsize=f_size)\n",
    "    num_trials = np.size(outcomes)\n",
    "    X = range( int(min(outcomes)), int(max(outcomes))+1 )    # \n",
    "    freqs = Counter(outcomes)\n",
    "    Y = [freqs[i]/num_trials for i in X]\n",
    "    plt.bar(X,Y,width=1.0,edgecolor='black')\n",
    "    if my_xticks != []:\n",
    "        plt.xticks(X, my_xticks)\n",
    "    elif (X[-1] - X[0] < 30):\n",
    "        ticks = range(X[0],X[-1]+1)\n",
    "        plt.xticks(ticks, ticks) \n",
    "    plt.xlabel(\"Outcomes\")\n",
    "    plt.ylabel(\"Probability\")\n",
    "    plt.title(title)\n",
    "    plt.show()\n",
    "    \n",
    "# Example of use\n",
    "\n",
    "#draw_distribution_from_outcomes([1,4,3,5,4,6,2,4,3,5,4])\n",
    "\n",
    "# This function takes a list of outcomes and a list of probabilities and\n",
    "# draws a chart of the probability distribution.\n",
    "# It allows labels for x axis with numbers or strings; for the latter, you\n",
    "# still need to give the numeric labels, but can overwrite them with your string labels. \n",
    "\n",
    "def draw_distribution_of_random_variable(Rx, Px, title='Probability Mass Function', my_xticks = [], f_size = (8,6)):\n",
    "    plt.figure(figsize=f_size)\n",
    "    plt.bar(Rx,Px,width=1.0,edgecolor='black')\n",
    "    plt.ylabel(\"Probability\")\n",
    "    plt.xlabel(\"Outcomes\")\n",
    "    if my_xticks != []:\n",
    "        plt.xticks(Rx, my_xticks)\n",
    "    elif (Rx[-1] - Rx[0] < 30):\n",
    "        ticks = range(Rx[0],Rx[-1]+1)\n",
    "        plt.xticks(ticks, ticks)  \n",
    "    plt.title(title)\n",
    "    plt.show()\n",
    "    \n",
    "# Example of use\n",
    "    \n",
    "#draw_distribution_of_random_variable([1,2,3,4], [0.25,0.35,0.15,0.25])\n",
    "\n",
    "#p = 0.14159234368\n",
    "\n",
    "#                                                                                        ||||||||||||||||\n",
    "# Notice how we gave strings as labels for the outcomes:                                 vvvvvvvvvvvvvvvv\n",
    "\n",
    "#draw_distribution_of_random_variable( [0,1], [p,1.0-p],\"Distribution for Unfair Coin\", ['Heads','Tails'],(5,4))\n",
    " \n"
   ]
  },
  {
   "cell_type": "markdown",
   "metadata": {},
   "source": [
    "## Analytical Problem Instructions\n",
    "\n",
    "\n",
    "\n",
    "A nice way to approach these is to do any complicated calculations in Python and then if you have\n",
    "to change something you won't have to redo all the calculations. Plus, you will make fewer\n",
    "mistakes in calculation. However, there is no need to do this for simpler problems. \n",
    "\n",
    "I also **strongly** recommend creating new variables for each problem, for example Rx1, Rx2, etc. for\n",
    "the range of the random variable in problems 1, 2, etc.   That way, you won't have problems if you\n",
    "forget and use the wrong variable! You can also refer to previous results without problems. \n",
    "\n",
    "### Please read:\n",
    "\n",
    "**Starting with this homework, if you do not format your solutions so that they are legible and easy to grade, we will deduct points for sloppiness. I strongly recommend that you use the following formatting to specify your answer to numeric problems:**\n",
    "\n",
    "    Solution to (A):  $\\boxed{3.1415}.$\n",
    "\n",
    "Solution to (A):  $\\boxed{3.1415}.$"
   ]
  },
  {
   "cell_type": "markdown",
   "metadata": {},
   "source": [
    "##  Problem One\n",
    "\n",
    "A sack contains five balls, two of which are marked $\\$1$,   two $\\$2$, and one $\\$10$. One round of the game is played as follows: You pay me $\\$5$ to select two balls at random (without replacement) from the urn, at which point I pay you the sum of the amounts marked on the two balls. Suppose we define the \"net payout\" as the amount you win minus the cost of each round. </p>\n",
    "\n",
    "(A) *Describe* the random variable X = \"the net payout one round.\" (As in HW 05.)\n",
    "\n",
    "(B) Calculate $E(X)$, showing all work.  \n",
    "\n",
    "(C) Is this a fair game? If not,  what should I charge for each round to make it a fair game?\n"
   ]
  },
  {
   "cell_type": "code",
   "execution_count": 3,
   "metadata": {},
   "outputs": [
    {
     "name": "stdout",
     "output_type": "stream",
     "text": [
      "Rx1 =  [-3, -2, -1, 6, 7]\n",
      "Rx2 =  [0.1, 0.4, 0.1, 0.2, 0.2]\n"
     ]
    },
    {
     "data": {
      "image/png": "[encoded data removed]",
      "text/plain": [
       "<Figure size 576x432 with 1 Axes>"
      ]
     },
     "metadata": {
      "needs_background": "light"
     },
     "output_type": "display_data"
    }
   ],
   "source": [
    "#(A)\n",
    "Rx1 = [-3, -2, -1, 6, 7]\n",
    "print(\"Rx1 = \", str(Rx1))\n",
    "#P(-3) = C(2,1)*C(1,1)/C(5,2)/2 = 0.1. Divide this by two since (1,1) = (1,1)\n",
    "#P(-2) = C(2,1)*C(2,1)/C(5,2)/2 = 0.4\n",
    "#P(-1) = C(2,1)*C(1,1)/C(5,2) = 0.1 Divide this by two since (2,2) = (2,2)\n",
    "#P(6) = C(2,1)*C(1,1)/C(5,2) = 0.2\n",
    "#P(7) = C(2,1)*C(1,1)/C(5,2) = 0.2\n",
    "Px1 = [0.1, 0.4, 0.1, 0.2, 0.2]\n",
    "print(\"Rx2 = \", str(Px1))\n",
    "draw_distribution_of_random_variable(Rx1, Px1)"
   ]
  },
  {
   "cell_type": "markdown",
   "metadata": {},
   "source": [
    "<p>(B)</p>\n",
    "<p>Rx1 = [-3, -2, -1, 6, 7]</p>\n",
    "<p>Px1 = [0.1, 0.4, 0.1, 0.2, 0.2]</p>\n",
    "<p>E(X) = -0.3 + -0.8 + -0.1 + 1.2 + 1.4 = $\\boxed{1.4}.$</p>\n",
    "<p>(C)</p>\n",
    "<p>A game is fair when E(X) = 0. Therefore, you are gaining \\$1.40 each round. The cost should be $6.40"
   ]
  },
  {
   "cell_type": "markdown",
   "metadata": {},
   "source": [
    "## Problem Two \n",
    "\n",
    "In a lottery, a player pays $\\$1$ and selects four different numbers from 0 to 9 (inclusive). Then,\n",
    "from an urn containing 10  balls numbered from 0 to 9, four balls are\n",
    "drawn at random and without replacement. \n",
    "\n",
    "If the numbers on exactly 3 of the balls match numbers that the player chose, he\n",
    "wins $\\$5$, and if the numbers on all 4 of the balls match numbers that the player chose, he wins $\\$10$. If fewer than 3 numbers match, he gets nothing.   \n",
    "\n",
    "Find the expected net payout (winnings - cost of ticket). "
   ]
  },
  {
   "cell_type": "markdown",
   "metadata": {},
   "source": [
    "<p>Lex X = net payout each round</p>\n",
    "<p>Rx2 = [9,4,-1]</p>\n",
    "<p>Px2 = [C(4,4)/C(10,4), C(4,3)*C(6,1)/C(10,4), 1-(P(4)+P(9)]</p>\n",
    "<p>Px2 = [0.005, 0.114, 0.881]</p>\n",
    "<p>E(X) = 0.045 + 0.456 - 0.881 = $\\boxed{-0.38}.$</p>\n"
   ]
  },
  {
   "cell_type": "markdown",
   "metadata": {},
   "source": [
    "## Problem Three\n",
    "\n",
    "Wayne and Zichen are throwing darts at a target, and Wayne's probability of hitting the bullseye is $p$ and Zichen's probability of hitting it is $q$ (independently of Wayne). A <i> round </i> of the game is for Zichen to throw and then Wayne to throw. The game is to keep throwing until <b>both</b> of them hit the bulleye <b>on the same round</b> and then stop. \n",
    "\n",
    "(A) If $X$ = the number of rounds until the game stops, what is the distribution of $X$?\n",
    "\n",
    "(B) What is the probability that the game stops on the $k^{th}$ round?\n",
    "\n",
    "(C) What is the probability that Zichen first hits the target in the 4th round, but Wayne has not yet hit the target?\n",
    "\n",
    "(D) Suppose after 10 rounds (and no round where both have hit the target) they decide to change the rules and continue to play until at least one of them hits the target. How many more rounds would they expect to play on average?\n",
    "\n",
    "You must express your answers in terms of the parameters $p$ and $q$ (and $k$ for (B)). "
   ]
  },
  {
   "cell_type": "markdown",
   "metadata": {},
   "source": [
    "<p>(A)</p>\n",
    "<p>The distribution of X is definitely geometric.</p>\n",
    "<p>Rx = [1,2,3, ...]</p>\n",
    "<p>Px = [pq, (1-pq)(pq), (1-pq)^2*(pq), ...]</p>\n",
    "\n",
    "<p>(B)</p>\n",
    "<p>Since two events are independent to each other, the probability that the game stops, or the probability of both of them hitting the bullseye is equal to p*q. Therefore, using the geometric distribution formula,</p>\n",
    "<p>Px(k) = $\\boxed{(1-pq)^{(k-1)}*pq}.$</p>\n",
    "\n",
    "<p>(C)</p>\n",
    "<p>The probability of Zichen not hitting the bullseye is 1-q. The probability of Wayne not hitting the bullseye is 1-p</p>\n",
    "<p>Therefore, The probability of Zichen hitting the target in the 4th round, but Wayne having not yet hit the target is: (1-q)(1-p) * (1-q)(1-p) * (1-q)(1-p) * q(1-p) = $\\boxed{q(1-q)^{3}(1-p)^{4}}.$</p>\n",
    "<p></p>\n"
   ]
  },
  {
   "cell_type": "markdown",
   "metadata": {},
   "source": [
    "## Problem Four\n",
    "\n",
    "Wayne frequents a coffee shop which gives each customer who buys a coffee a \n",
    "coupon labelled with one of the numbers 1, 2, 3, or 4; when a customer collects coupons with all four numbers, he or she\n",
    "may trade them in for a free coffee. The coffee shop does not keep track\n",
    "of which coupons are given to which customers, and so the shop effectively picks\n",
    "a coupon with replacement from the set of 4 coupons. \n",
    "  \n",
    "\n",
    "(A) Suppose Wayne has received two coupons with numbers 2 and 4; what is the probability that Wayne receives one of the remaining coupons (i.e., in the set $\\{1, 3 \\}$) \n",
    "on his next visit?\n",
    "\n",
    "(B) Suppose Wayne has not yet received coupon $i\\in\\{1,2,3,4\\}$. Let $X$ = \"the number of visits until he receives coupon $i$.\"\n",
    "What is the distribution of $X$?  What is $E(X)$?  Be precise and give all relevant parameters, plus\n",
    "a short justification for your solution. \n",
    "\n",
    "(C) Suppose Wayne has all but one of the coupons (e.g., he has 2, 3, and 4, but is waiting for 1). Let $X$ = \"the number of visits until he receives the last coupon.\"\n",
    "What is the distribution of $X$?  Be precise and give all relevant parameters, plus\n",
    "a short justification for your solution. \n",
    "\n",
    "\n",
    "\n",
    "(D) What is the probability that Wayne will be able to get the fourth coupon at or before his 10th visit?\n",
    "Hint: Use the Inverse Method!\n",
    "\n",
    "(E) What is the expected number of visits for Wayne to be able to get all four coupons? (Note: this will be a real number.)\n"
   ]
  },
  {
   "cell_type": "markdown",
   "metadata": {},
   "source": [
    "<p>(A)</p>\n",
    "<p>Well, since this is \"with replacement\", all of the components of range have same probability. Therefore, no matter what coupons Wayne had already received, the probability of receiving either 1 or 3 is 1/4 + 1/4 = $\\boxed{0.5}$.</p>\n",
    "<p>(B)</p>\n",
    "<p>Using the geometric distribution, we know that every element in {1,2,3,4} is equiprobable of 1/4. Hence, X ~ Geometric(0.25). Since we know that E(X) of gemetric distribution is 1/p, E(X) = 1/0.25 = 4</p>\n",
    "<p>X ~ Geometric(0.25)</p>\n",
    "<p>Rx = [1,2,3,...]. Where k in Rx,</p>\n",
    "<p>Px(k) = (1-0.25)^(k-1) * 0.25 = [0.25, (1-0.25)0.25, ...]</p>\n",
    "<p>(C)</p>\n",
    "<p>This is exactly the same as the part B. Wayne is waiting for one of the coupons, which has the probability of 1/4 to come out. Therefore, since we are looking for \"number of visits\" to find an intended coupon, use the geometric distribution, and get, X ~ Geometric(p) = X ~ Geometric(0.25)</p>\n",
    "<p>X ~ Geometric(0.25)</p>\n",
    "<p>Rx = [1,2,3,...]. Where k in Rx,</p>\n",
    "<p>Px(k) = (1-0.25)^(k-1) * 0.25 = [0.25, (1-0.25)0.25, ...]</p>\n",
    "<p>(E)</p>\n",
    "<p></p>\n",
    "<p>Let Xk = number of tries to get kth coupon. e.g. X1 = number of tries to get first coupon.</p>\n",
    "<p>And let X = number of visits for wayne to be able to get all four coupons.</p>\n",
    "<p>Then, E(X) = E(X1+X2+X3+X4) = E(X1) + E(X2) + E(X3) + E(X4) = 1 + 4/3 + 2 + 4 = $\\boxed{8.3333}$</p>\n",
    "\n",
    "\n"
   ]
  },
  {
   "cell_type": "markdown",
   "metadata": {},
   "source": [
    "## Problem Five\n",
    "\n",
    "A box contains 20 fuses, of which exactly 5 are defective. \n",
    "\n",
    "(A) Suppose\n",
    "you select 3 fuses randomly, without replacement.\n",
    "\n",
    "Let $X$ = \"the number of defective fuses among the 3 selected.\"\n",
    "\n",
    "Give $E(X)$. Show all work for full credit. \n",
    "\n",
    "(B) Suppose you choose fuses from the box randomly, without replacement, and test them. \n",
    "What is the expected number of fuses you choose until you find a non-defective fuse?"
   ]
  },
  {
   "cell_type": "code",
   "execution_count": 1,
   "metadata": {},
   "outputs": [
    {
     "ename": "NameError",
     "evalue": "name 'C' is not defined",
     "output_type": "error",
     "traceback": [
      "\u001b[0;31m---------------------------------------------------------------------------\u001b[0m",
      "\u001b[0;31mNameError\u001b[0m                                 Traceback (most recent call last)",
      "\u001b[0;32m<ipython-input-1-9003f36f25f7>\u001b[0m in \u001b[0;36m<module>\u001b[0;34m\u001b[0m\n\u001b[1;32m      1\u001b[0m \u001b[0;31m#(A)\u001b[0m\u001b[0;34m\u001b[0m\u001b[0;34m\u001b[0m\u001b[0;34m\u001b[0m\u001b[0m\n\u001b[1;32m      2\u001b[0m \u001b[0mRx5a\u001b[0m \u001b[0;34m=\u001b[0m \u001b[0;34m[\u001b[0m\u001b[0;36m0\u001b[0m\u001b[0;34m,\u001b[0m\u001b[0;36m1\u001b[0m\u001b[0;34m,\u001b[0m\u001b[0;36m2\u001b[0m\u001b[0;34m,\u001b[0m\u001b[0;36m3\u001b[0m\u001b[0;34m]\u001b[0m\u001b[0;34m\u001b[0m\u001b[0;34m\u001b[0m\u001b[0m\n\u001b[0;32m----> 3\u001b[0;31m \u001b[0mPx5a\u001b[0m \u001b[0;34m=\u001b[0m \u001b[0;34m[\u001b[0m\u001b[0mC\u001b[0m\u001b[0;34m(\u001b[0m\u001b[0;36m15\u001b[0m\u001b[0;34m,\u001b[0m\u001b[0;36m3\u001b[0m\u001b[0;34m-\u001b[0m\u001b[0mk\u001b[0m\u001b[0;34m)\u001b[0m\u001b[0;34m*\u001b[0m\u001b[0mC\u001b[0m\u001b[0;34m(\u001b[0m\u001b[0;36m5\u001b[0m\u001b[0;34m,\u001b[0m\u001b[0mk\u001b[0m\u001b[0;34m)\u001b[0m\u001b[0;34m/\u001b[0m\u001b[0mC\u001b[0m\u001b[0;34m(\u001b[0m\u001b[0;36m20\u001b[0m\u001b[0;34m,\u001b[0m\u001b[0;36m3\u001b[0m\u001b[0;34m)\u001b[0m \u001b[0;32mfor\u001b[0m \u001b[0mk\u001b[0m \u001b[0;32min\u001b[0m \u001b[0mRx5a\u001b[0m\u001b[0;34m]\u001b[0m\u001b[0;34m\u001b[0m\u001b[0;34m\u001b[0m\u001b[0m\n\u001b[0m\u001b[1;32m      4\u001b[0m \u001b[0mprint\u001b[0m\u001b[0;34m(\u001b[0m\u001b[0;34m\"Rx5a: \"\u001b[0m\u001b[0;34m,\u001b[0m \u001b[0mstr\u001b[0m\u001b[0;34m(\u001b[0m\u001b[0mRx5a\u001b[0m\u001b[0;34m)\u001b[0m\u001b[0;34m)\u001b[0m\u001b[0;34m\u001b[0m\u001b[0;34m\u001b[0m\u001b[0m\n\u001b[1;32m      5\u001b[0m \u001b[0mprint\u001b[0m\u001b[0;34m(\u001b[0m\u001b[0;34m\"Px5a: \"\u001b[0m\u001b[0;34m,\u001b[0m \u001b[0mstr\u001b[0m\u001b[0;34m(\u001b[0m\u001b[0mPx5a\u001b[0m\u001b[0;34m)\u001b[0m\u001b[0;34m)\u001b[0m\u001b[0;34m\u001b[0m\u001b[0;34m\u001b[0m\u001b[0m\n",
      "\u001b[0;32m<ipython-input-1-9003f36f25f7>\u001b[0m in \u001b[0;36m<listcomp>\u001b[0;34m(.0)\u001b[0m\n\u001b[1;32m      1\u001b[0m \u001b[0;31m#(A)\u001b[0m\u001b[0;34m\u001b[0m\u001b[0;34m\u001b[0m\u001b[0;34m\u001b[0m\u001b[0m\n\u001b[1;32m      2\u001b[0m \u001b[0mRx5a\u001b[0m \u001b[0;34m=\u001b[0m \u001b[0;34m[\u001b[0m\u001b[0;36m0\u001b[0m\u001b[0;34m,\u001b[0m\u001b[0;36m1\u001b[0m\u001b[0;34m,\u001b[0m\u001b[0;36m2\u001b[0m\u001b[0;34m,\u001b[0m\u001b[0;36m3\u001b[0m\u001b[0;34m]\u001b[0m\u001b[0;34m\u001b[0m\u001b[0;34m\u001b[0m\u001b[0m\n\u001b[0;32m----> 3\u001b[0;31m \u001b[0mPx5a\u001b[0m \u001b[0;34m=\u001b[0m \u001b[0;34m[\u001b[0m\u001b[0mC\u001b[0m\u001b[0;34m(\u001b[0m\u001b[0;36m15\u001b[0m\u001b[0;34m,\u001b[0m\u001b[0;36m3\u001b[0m\u001b[0;34m-\u001b[0m\u001b[0mk\u001b[0m\u001b[0;34m)\u001b[0m\u001b[0;34m*\u001b[0m\u001b[0mC\u001b[0m\u001b[0;34m(\u001b[0m\u001b[0;36m5\u001b[0m\u001b[0;34m,\u001b[0m\u001b[0mk\u001b[0m\u001b[0;34m)\u001b[0m\u001b[0;34m/\u001b[0m\u001b[0mC\u001b[0m\u001b[0;34m(\u001b[0m\u001b[0;36m20\u001b[0m\u001b[0;34m,\u001b[0m\u001b[0;36m3\u001b[0m\u001b[0;34m)\u001b[0m \u001b[0;32mfor\u001b[0m \u001b[0mk\u001b[0m \u001b[0;32min\u001b[0m \u001b[0mRx5a\u001b[0m\u001b[0;34m]\u001b[0m\u001b[0;34m\u001b[0m\u001b[0;34m\u001b[0m\u001b[0m\n\u001b[0m\u001b[1;32m      4\u001b[0m \u001b[0mprint\u001b[0m\u001b[0;34m(\u001b[0m\u001b[0;34m\"Rx5a: \"\u001b[0m\u001b[0;34m,\u001b[0m \u001b[0mstr\u001b[0m\u001b[0;34m(\u001b[0m\u001b[0mRx5a\u001b[0m\u001b[0;34m)\u001b[0m\u001b[0;34m)\u001b[0m\u001b[0;34m\u001b[0m\u001b[0;34m\u001b[0m\u001b[0m\n\u001b[1;32m      5\u001b[0m \u001b[0mprint\u001b[0m\u001b[0;34m(\u001b[0m\u001b[0;34m\"Px5a: \"\u001b[0m\u001b[0;34m,\u001b[0m \u001b[0mstr\u001b[0m\u001b[0;34m(\u001b[0m\u001b[0mPx5a\u001b[0m\u001b[0;34m)\u001b[0m\u001b[0;34m)\u001b[0m\u001b[0;34m\u001b[0m\u001b[0;34m\u001b[0m\u001b[0m\n",
      "\u001b[0;31mNameError\u001b[0m: name 'C' is not defined"
     ]
    }
   ],
   "source": [
    "#(A)\n",
    "Rx5a = [0,1,2,3]\n",
    "Px5a = [C(15,3-k)*C(5,k)/C(20,3) for k in Rx5a]\n",
    "print(\"Rx5a: \", str(Rx5a))\n",
    "print(\"Px5a: \", str(Px5a))\n",
    "#Px5 = [0.3991, 0.4605, 0.1316, 0.0088]\n",
    "expected_A = 0\n",
    "for i in range(4):\n",
    "    expected_A += Rx5a[i]*Px5a[i]\n",
    "print(\"E(X)a: \", str(expected_A))\n"
   ]
  },
  {
   "cell_type": "code",
   "execution_count": 10,
   "metadata": {},
   "outputs": [
    {
     "name": "stdout",
     "output_type": "stream",
     "text": [
      "Rx5b:  [1, 2, 3, 4, 5, 6, 7, 8, 9, 10, 11, 12, 13, 14, 15, 16, 17, 18, 19, 20]\n",
      "Px5b:  [0.75, 0.1875, 0.0469, 0.0117, 0.0029, 0.0007, 0.0002, 0.0, 0.0, 0.0, 0.0, 0.0, 0.0, 0.0, 0.0, 0.0, 0.0, 0.0, 0.0, 0.0]\n",
      "E(X)b:  1.3326\n",
      "The expected number of fuses that you choose until you find a non-defective fuse:  1.3326\n",
      "Or, we could simply use the formula for expectation value of geometric distribution, which is 1/p : 1.3333\n"
     ]
    }
   ],
   "source": [
    "#(B)\n",
    "Rx5b = [1,2,3,4,5,6,7,8,9,10,11,12,13,14,15,16,17,18,19,20]\n",
    "prob_5b = 15/20\n",
    "Px5b = [np.around((1-prob_5b)**(k-1)*prob_5b,4) for k in Rx5b]\n",
    "expected_B = 0\n",
    "for i in range(20):\n",
    "    expected_B += Rx5b[i]*Px5b[i]\n",
    "print(\"Rx5b: \", str(Rx5b))\n",
    "print(\"Px5b: \", str(Px5b))\n",
    "print(\"E(X)b: \", str(np.around(expected_B,4)))\n",
    "print(\"The expected number of fuses that you choose until you find a non-defective fuse: \", str(np.around(expected_B,4)))\n",
    "print(\"Or, we could simply use the formula for expectation value of geometric distribution, which is 1/p :\", str(np.around(1/prob_5b,4)))"
   ]
  },
  {
   "cell_type": "markdown",
   "metadata": {},
   "source": [
    "## Problem Six\n",
    "\n",
    "Consider an Ethernet with N nodes. During lull periods of time, no nodes are broadcasting a message; during such lull periods, a particular node will send a message with probabiliy $p$, independently of the other nodes. However, if 2 or more nodes send a message simultaneously, we have a collision and the messages are corrupted and transmission stops. A node whose message has been cancelled in this way will try again until the message is successfully transmitted. \n",
    "\n",
    "How many **times** on average will a given node attempt to transmit a message until it is successfully transmitted? \n",
    "\n",
    "But there is a subtlety here: Does \"times\" in the question mean \n",
    "\n",
    "<blockquote>\n",
    "(i) \"how many lull periods\" (in which case you have to take account of the probability that the particular node attempted to send a message) or \n",
    "\n",
    "(ii) \"attempts\" (in which case the particular node has already tried, and the probability is 1.0 that the attempt was made)?\n",
    "</blockquote>\n",
    "\n",
    "Either is reasonable, so we will solve for both. \n",
    "\n",
    "(A)  Use assumption (i) to solve the problem. \n",
    "\n",
    "(B) Use assumption (ii) to solve the problem. "
   ]
  },
  {
   "cell_type": "markdown",
   "metadata": {},
   "source": [
    "## Problem Seven\n",
    "\n",
    "Wayne rolls a fair die until he gets a 2. Trevor rolls the same die until he gets an odd number. What is the probability that Trevor rolls the die more times than Wayne does?\n",
    "\n",
    "Hint: Find the probability that Wayne rolls $k$ times and Trevor rolls more than $k$ times (remembering that these are independent), and then sum over all possible $k$. "
   ]
  },
  {
   "cell_type": "markdown",
   "metadata": {},
   "source": [
    "## Problem Eight\n",
    "\n",
    "Suppose you are playing a game with a friend in which you bet $n$ dollars on the flip of a fair coin: if the coin lands tails you lose your $n$ dollar bet, but if it lands heads, you get $2n$ dollars back (i.e., you get your $n$ dollars back plus you win $n$ dollars). \n",
    "\n",
    "Let $X$ = \"the amount you gain or lose.\" \n",
    "\n",
    "(A) What is the expected return $E(X)$ on this game? Give your answer in terms of $n$ and show all work. \n",
    "\n",
    "Now, after losing a bunch of times, suppose you decide to improve your chances with the following strategy: you will start by betting $\\$1$, and if you lose, you will double your bet the next time, and you will keep playing until you win (the coin has to land heads sometime!).\n",
    "\n",
    "Let $Y$ = \"the amount you gain or lose with this strategy\". \n",
    "\n",
    "(B) What is the expected return $E(Y)$ with this strategy? (Hint: think about what happens for each of the cases of $k = 1, 2, 3, \\ldots$ flips). \n",
    "\n",
    "(C) Hm ... do you see any problem with this strategy? How much money would you have to start with to guarantee that you always win?  \n",
    "\n",
    "(D) Suppose when you apply this strategy, you start with $\\$20$ and you quit the game when you run out of money. Now what is $E(Y)$?\n"
   ]
  },
  {
   "cell_type": "markdown",
   "metadata": {},
   "source": [
    "## Problem Nine\n",
    "\n",
    "Suppose a kennel has N cages for N dogs, and each dog wears a collar with his/her name, and each cage also has a label with the name of the dog on it. \n",
    "The owner of the kennel takes all the dogs out for exercise, and then\n",
    "randomly lets them enter the cages, one dog per cage (so he pays no attention to the names).  \n",
    "\n",
    "Let $X$ = the number of dogs who end up in their own cages. \n",
    "\n",
    "Find $E(X)$ and show all work. \n",
    "\n",
    "Hint: Define N Bernoulli \"indicator\" random variables, $I_1,\\ldots I_N$, where success for $I_k$ is  dog $k$ ending up in\n",
    "its own cage, and use the linearity of expectation. "
   ]
  },
  {
   "cell_type": "markdown",
   "metadata": {},
   "source": [
    "## Problem Ten\n",
    "\n",
    "Suppose you randomly shuffle a standard deck of 52 cards, and then\n",
    "select cards without replacement until you get an Ace. \n",
    "\n",
    "Let $X$ = the number of cards you select (the last selection being the Ace).\n",
    "\n",
    "Give $E(X)$ and show all work. \n",
    "\n",
    "Hint: To determine the PMF, let $P(X = k) = P(A\\cap B)$ where $A$ is the event that no Ace appears among the first $k-1$ cards selected and $B$ be the event that the $k^{th}$ card selected is an Ace. You can easily calculate $P(A)$ and $P(B)$, but since these are **not** independent, so you can't just multiply; instead calculate and use $P(B|A)$ to determine $P(A\\cap B)$.\n"
   ]
  },
  {
   "cell_type": "markdown",
   "metadata": {},
   "source": [
    "## Lab Problems -- Let's Gamble!\n",
    "\n",
    "This lab follows up on Thursday's lecture, and considers various ways to\n",
    "perform experiments with games, exploring the idea of expected value. \n",
    "\n",
    "There are only two problems this week for lab. "
   ]
  },
  {
   "cell_type": "markdown",
   "metadata": {},
   "source": [
    "## Problem 11: What is the best strategy for the game of Twenty-One?\n",
    "Now suppose we want to actually figure out the right way to gamble, using random variables and distributions.  \n",
    "\n",
    "We will play a version of blackjack called Twenty-One and figure out the best strategy for the game.\n",
    "\n",
    "### Twenty One\n",
    "This game is similar to the famous card game blackjack. We will play a one-player version of the game. The game is played for some number `num_trials` of rounds (we will use `num_trials` = $10^5$), at the end of which the player wins points. The player accumulates points during the whole game, and the objective is, of course, to end up with the maximum number of points. \n",
    "\n",
    "The objective in each round of the game is to score as close to 21 as possible by rolling a die as many times as you wish and adding all the numbers that appear. When a player's total exceeds 21, he is 'busted' and gets 0 points. If the player chooses to stop rolling before he exceeds 21, then he wins whatever his total is at that point. So for example, if a player rolls 5, 2, 4, and then 6, his total at that point is 17, and he has to decide whether it is worth trying again: he will be busted if he gets 5 or more (since 17+5=22), but will get a better total if he gets 4 or less.  \n",
    "\n",
    "There are many variations on this game, some involving multiple players, or a \"banker\" or different numbers of dice, or alcohol..... <a href=\"https://www.youtube.com/watch?v=G_IHHNjdIEk\">here</a> is a short YT video explaining the basic game.\n",
    "\n",
    "A computer can play this game with a suitable strategy. For this problem, we will consider a strategy to be simply an integer K which is the value at which you stop rolling (thinking that you are close enough to 21). The number K is fixed for the entire game. For example, if you set K = 19, then in every round, you will keep rolling if your sum to that point is less than 19; if you get a num &ge; 19 you stop. Clearly, any good strategy will be a number at least 15, since 15+6=21 and if you roll again at 15, you will never bust. But we will try all possible strategies. \n",
    "\n",
    "### To Do\n",
    "You should write a function <code>playRound(K)</code> which rolls a single die until you reach or exceed K or get busted, and either return your score (if you reached or exceeded K), or 0 (if you were busted). Then write a function <code>playGame()</code> which calls <code>playRound(K)</code> for N = 10,000 times for each K and returns an array of 21 numbers giving the average payoff for each K = 1, ..., 21.\n",
    "\n",
    "Your task is to answer the following questions: \n",
    "\n",
    "(A) For each K = 1 .. 21, what is the average payoff per round for a game played with this strategy?\n",
    "\n",
    "(B) What is the best strategy for the game, meaning what value of K wins the most points on average?\n",
    "\n",
    "Print out the values and an appropriate bar chart for the first question, and simply print out the answer to the second question using a print(...) function. You must calculate the answer in Python, not by observation of the graph. "
   ]
  },
  {
   "cell_type": "code",
   "execution_count": 6,
   "metadata": {},
   "outputs": [
    {
     "name": "stdout",
     "output_type": "stream",
     "text": [
      "[0]\n"
     ]
    },
    {
     "data": {
      "image/png": "[encoded data removed]",
      "text/plain": [
       "<Figure size 432x288 with 1 Axes>"
      ]
     },
     "metadata": {
      "needs_background": "light"
     },
     "output_type": "display_data"
    },
    {
     "name": "stdout",
     "output_type": "stream",
     "text": [
      "\n",
      "Best score is obtained for K = 0\n"
     ]
    }
   ],
   "source": [
    "#Plays a single round of Twenty One with strategy K (flips the die until K is\n",
    "#reached or the player busts) and returns the score.\n",
    "\n",
    "def playRound(K):\n",
    "    return 0         # your code here\n",
    "\n",
    "#Calculate the average payoff for each possible strategy K = 1, 2, ..., 21\n",
    "#by playing the game num_trials times for each K and keeping track of the payoff.\n",
    "\n",
    "num_trials = 10**5\n",
    "X = [ 0 ]                  # your code here\n",
    "Y = [ 0 ]\n",
    "print(Y)\n",
    "plt.title(\"Average payoffs for K=1, ..., 21\")\n",
    "plt.bar(X,Y)\n",
    "plt.show()\n",
    "\n",
    "best = 0     # your code here   \n",
    "\n",
    "print(\"\\nBest score is obtained for K = \" + str(best))     "
   ]
  },
  {
   "cell_type": "markdown",
   "metadata": {},
   "source": [
    "## Problem 12:  The Two-Armed Bandit\n",
    "\n",
    "This game, named from a nickname for slot machines (which have\n",
    "two levers to pull and steal your money!), is played by a single player who has two coins:\n",
    "\n",
    "> $A$ with a probability of heads $p_A$, and   \n",
    "> $B$ with a probability of head $p_B$,\n",
    "  \n",
    "The coins are indistinguishable: the player does not know which coin is $A$ and which is $B$, nor the probabilities involved (of course, the game is not as interesting if the probabilities are equal!).\n",
    "\n",
    "One round of the game is played as follows: the player chooses one of the coins\n",
    "and flips it. If the result is heads, the player wins $\\$1$; if tails the player \n",
    "loses $\\$1$ (which can be thought of as a net profit of $-\\$1$). The game is played for\n",
    "some large number of rounds $n$ (though this is not important, and you might as well think of the game as continuing infinitely).\n",
    "\n",
    "The question is one of strategy: how do you maximize your profit?\n",
    "\n",
    "It might seem as there is no \"strategy\" for this game, and the player might\n",
    "simply use the \"random strategy\":\n",
    "\n",
    "> RS:  In each round, flip a third, fair coin to choose either A or B.\n",
    "\n",
    " However, a strategy of \"win stay, lose shift\" has been proposed to\n",
    "optimize one's chances of success.  This strategy is simple: \n",
    "\n",
    ">  WSLS:  In the first round, use coin A. After that, if you win, \n",
    ">  then flip the same coin again; if you lose, switch to the other coin. \n",
    "\n",
    "This strategy has an intuitive appeal, because you would think that over a large\n",
    "number of rounds, the coin with the higher probability would tend to be flipped\n",
    "more often, resulting in more profit. \n",
    "\n",
    "However, no one has (yet) come up with a rigorous proof that this strategy is\n",
    "better than the random strategy. Hence we must fall back on experiments. \n",
    "In this problem we will investigate these\n",
    "two strategies and see if indeed the \"win stay, lose shift\" strategy is better\n",
    "than the random strategy. \n",
    "\n",
    "First, complete the template below to implement the basic framework for the game, then try the following experiments. Code to print out the results has been included,\n",
    "you must provide the code to implement each strategy. \n",
    "\n",
    "(A)  Set pa = pb = 0.6.  In this case, both strategies should be equivalent. Run \n",
    "the game for $10^5$ rounds ($10^6$ if you can) and print out the results, they\n",
    "should be very close.\n",
    "\n",
    "(B)  Set pa = 0.6 and pb = 0.5 and run for $10^5$ rounds ($10^6$ if you can). You should\n",
    "see modest improvement using WSLS.\n",
    "\n",
    "(C)  Set pa = 0.75 and pb = 0.25 and run for $10^5$ rounds ($10^6$ if you can). You should see a fairly dramatic improvement using WSLS. \n",
    "\n",
    "Try this without the seed (commenting out the line `np.random.seed(0)`, in which case you will see the general trend of\n",
    "these experiments, and then include the seed before you submit.  The comments below\n",
    "on what results you should see assume you have used the seed. \n"
   ]
  },
  {
   "cell_type": "code",
   "execution_count": 7,
   "metadata": {},
   "outputs": [
    {
     "name": "stdout",
     "output_type": "stream",
     "text": [
      "(A)\n",
      "\n",
      "0\n",
      "0\n",
      "0.0\n",
      "\n",
      "(B)\n",
      "\n",
      "0\n",
      "0\n",
      "0.0\n",
      "\n",
      "(C)\n",
      "\n",
      "0\n",
      "0\n",
      "0.0\n",
      "\n"
     ]
    }
   ],
   "source": [
    "# Problem 12\n",
    "\n",
    "# this is like a Bernoulli, except it returns 1 (for success = heads) or -1 (failure, tails)\n",
    "def flip_coin(p):\n",
    "    return 0    # your code here \n",
    "\n",
    "num_trials = 10**6\n",
    "\n",
    "def random_strategy(pa,pb):\n",
    "    return 0    # your code here            \n",
    "    \n",
    "\n",
    "def win_stay_lose_shift(pa,pb):\n",
    "    return 0    # your code here \n",
    "\n",
    "np.random.seed(0)\n",
    "\n",
    "# Calculate average profit of WSLS over Random per round\n",
    "print(\"(A)\\n\")\n",
    "pa = 0.6\n",
    "pb = 0.6\n",
    "rs = random_strategy(pa,pb)\n",
    "wsls = win_stay_lose_shift(pa,pb)\n",
    "print(rs)\n",
    "print(wsls)\n",
    "print((wsls-rs)/num_trials)    # average payoff per round -- should be very small\n",
    "print()\n",
    "\n",
    "print(\"(B)\\n\")\n",
    "pa = 0.6\n",
    "pb = 0.5\n",
    "rs = random_strategy(pa,pb)\n",
    "wsls = win_stay_lose_shift(pa,pb)\n",
    "print(rs)\n",
    "print(wsls)\n",
    "print((wsls-rs)/num_trials)    # average payoff per round -- should be around 0.007 to 0.009\n",
    "print()\n",
    "\n",
    "print(\"(C)\\n\")\n",
    "pa = 0.75\n",
    "pb = 0.25\n",
    "rs = random_strategy(pa,pb)\n",
    "wsls = win_stay_lose_shift(pa,pb)\n",
    "print(rs)\n",
    "print(wsls)\n",
    "print((wsls-rs)/num_trials)    # average payoff per round -- should be around 0.24 to 0.25\n",
    "print()"
   ]
  }
 ],
 "metadata": {
  "kernelspec": {
   "display_name": "Python 3",
   "language": "python",
   "name": "python3"
  },
  "language_info": {
   "codemirror_mode": {
    "name": "ipython",
    "version": 3
   },
   "file_extension": ".py",
   "mimetype": "text/x-python",
   "name": "python",
   "nbconvert_exporter": "python",
   "pygments_lexer": "ipython3",
   "version": "3.7.4"
  }
 },
 "nbformat": 4,
 "nbformat_minor": 2
}
